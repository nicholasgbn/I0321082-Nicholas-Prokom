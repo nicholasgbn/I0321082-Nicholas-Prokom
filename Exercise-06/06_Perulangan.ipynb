{
 "cells": [
  {
   "cell_type": "markdown",
   "metadata": {},
   "source": [
    "***\n",
    "<h1 align=\"center\">Exercise 06</h1>\n",
    " \n",
    "***\n",
    "## While Loop\n",
    "## Exercise 6.1\n",
    "isilah bagian rumpang berikut. xx diganti tanggal lahir dan yy diganti menjadi bulan lahir. tandanya menyesuaikan yang lebih besar."
   ]
  },
  {
   "cell_type": "code",
   "execution_count": 7,
   "metadata": {},
   "outputs": [
    {
     "name": "stdout",
     "output_type": "stream",
     "text": [
      "jangan menunggu\n",
      "jangan menunggu\n",
      "jangan menunggu\n",
      "jangan menunggu\n",
      "jangan menunggu\n",
      "jangan menunggu\n",
      "jangan menunggu\n",
      "jangan menunggu\n",
      "jangan menunggu\n",
      "jangan menunggu\n",
      "jangan menunggu\n",
      "jangan menunggu\n",
      "jangan menunggu\n",
      "jangan menunggu\n",
      "jangan menunggu\n",
      "jangan menunggu\n",
      "jangan menunggu\n",
      "jangan menunggu\n",
      "jangan menunggu\n",
      "jangan menunggu\n",
      "jangan menunggu\n",
      "jangan menunggu\n"
     ]
    }
   ],
   "source": [
    "#menentukan banyak pengulangan\n",
    "n = 31\n",
    "\n",
    "#melakukan pengulangan\n",
    "i = 10\n",
    "\n",
    "while i <= n :\n",
    "    print (\"jangan menunggu\")\n",
    "    #diisi motto kalian\n",
    "    i = i + 1 # sesuaikan dengan atas agar fungsi perulangan dapat berhenti\n"
   ]
  },
  {
   "cell_type": "markdown",
   "metadata": {},
   "source": [
    "## Exercise 6.2\n",
    "\n",
    "Buatlah code seperti yang dicontohkan pada modul agar user dapat menginputkan sendiri jumlah n yang diinginkan"
   ]
  },
  {
   "cell_type": "code",
   "execution_count": 6,
   "metadata": {},
   "outputs": [
    {
     "name": "stdout",
     "output_type": "stream",
     "text": [
      "10\n",
      "11\n",
      "12\n",
      "13\n",
      "14\n",
      "15\n",
      "16\n",
      "17\n",
      "18\n",
      "19\n",
      "20\n",
      "21\n",
      "22\n",
      "23\n",
      "24\n",
      "25\n",
      "26\n",
      "27\n",
      "28\n",
      "29\n",
      "30\n",
      "31\n"
     ]
    }
   ],
   "source": [
    "#Kerjakan disini\n",
    "n = int(input(\"input nilai n: \"))\n",
    "i = 10\n",
    "\n",
    "while i <= n :\n",
    "    print (i)\n",
    "    i = i + 1\n"
   ]
  },
  {
   "cell_type": "markdown",
   "metadata": {},
   "source": [
    "## Excercise 6.3\n",
    "\n",
    "isilah xx, yy, dan tanda rumpang seperti pada exercise 6.1\n"
   ]
  },
  {
   "cell_type": "code",
   "execution_count": 6,
   "metadata": {},
   "outputs": [],
   "source": [
    "#melakukan pengulangan\n",
    "i = 31\n",
    "\n",
    "while i <= 10 :\n",
    "    print (\"Baris ke-%d : Spider Man\"%i)\n",
    "    #isi titik-titik dengan judul film favorit kalian\n",
    "    i = i + 1 "
   ]
  },
  {
   "cell_type": "markdown",
   "metadata": {},
   "source": [
    "## FOR LOOP\n",
    "\n",
    "## Exercise 6.4\n",
    "\n",
    "munculkan 3 dari 7 elemen yang berada di dalam list1 dan list2\n"
   ]
  },
  {
   "cell_type": "code",
   "execution_count": 5,
   "metadata": {},
   "outputs": [
    {
     "name": "stdout",
     "output_type": "stream",
     "text": [
      "3 pansit goreng , bali\n",
      "4 baso , bandung\n",
      "5 ayam geprek , solo\n"
     ]
    }
   ],
   "source": [
    "list1 = [\"nasi goreng\", \"mie goreng\", \"pansit goreng\", \"baso\", \"ayam geprek\", \"ayam goreng\", \"sate padang\"] #masukkan 7 list makanan favorit kalian\n",
    "list2 = [\"medan\", \"jakarta\", \"bali\", \"bandung\", \"solo\", \"semarang\", \"bekasi\"] #masukkan 7 list kota favorit kalian\n",
    "\n",
    "for i in range(2,5) :\n",
    "    print(i+1, list1[i], ',',list2[i])"
   ]
  },
  {
   "cell_type": "markdown",
   "metadata": {},
   "source": [
    "## Perulangan Bersarang\n",
    "\n",
    "## Exercise 6.5"
   ]
  },
  {
   "cell_type": "code",
   "execution_count": 2,
   "metadata": {},
   "outputs": [
    {
     "name": "stdout",
     "output_type": "stream",
     "text": [
      "961 \n",
      "930 900 \n",
      "899 870 841 \n",
      "868 840 812 784 \n",
      "837 810 783 756 729 \n",
      "806 780 754 728 702 676 \n",
      "775 750 725 700 675 650 625 \n",
      "744 720 696 672 648 624 600 576 \n",
      "713 690 667 644 621 598 575 552 529 \n",
      "682 660 638 616 594 572 550 528 506 484 \n",
      "651 630 609 588 567 546 525 504 483 462 441 \n",
      "620 600 580 560 540 520 500 480 460 440 420 400 \n",
      "589 570 551 532 513 494 475 456 437 418 399 380 361 \n",
      "558 540 522 504 486 468 450 432 414 396 378 360 342 324 \n",
      "527 510 493 476 459 442 425 408 391 374 357 340 323 306 289 \n",
      "496 480 464 448 432 416 400 384 368 352 336 320 304 288 272 256 \n",
      "465 450 435 420 405 390 375 360 345 330 315 300 285 270 255 240 225 \n",
      "434 420 406 392 378 364 350 336 322 308 294 280 266 252 238 224 210 196 \n",
      "403 390 377 364 351 338 325 312 299 286 273 260 247 234 221 208 195 182 169 \n",
      "372 360 348 336 324 312 300 288 276 264 252 240 228 216 204 192 180 168 156 144 \n",
      "341 330 319 308 297 286 275 264 253 242 231 220 209 198 187 176 165 154 143 132 121 \n",
      "310 300 290 280 270 260 250 240 230 220 210 200 190 180 170 160 150 140 130 120 110 100 \n"
     ]
    }
   ],
   "source": [
    "i = 31\n",
    "while i >= 10:\n",
    "    j = 31\n",
    "    while j>=i:\n",
    "        print(\"%d \" % (i*j), end = '')\n",
    "        j = j - 1\n",
    "    print()\n",
    "    i-=1"
   ]
  },
  {
   "cell_type": "markdown",
   "metadata": {},
   "source": [
    "## Pernyataan Loncat\n",
    "\n",
    "## Exercise 6.\n",
    "\n",
    "Buatlah fungsi berikut agar muncul angka hingga berhenti sesuai dengan nilai qq\n",
    "qq = angka favorit kalian\n",
    "pp>qq"
   ]
  },
  {
   "cell_type": "code",
   "execution_count": 8,
   "metadata": {},
   "outputs": [
    {
     "name": "stdout",
     "output_type": "stream",
     "text": [
      "01234567"
     ]
    }
   ],
   "source": [
    "for i in range(9):\n",
    "    print(i,end='')\n",
    "    if i == 7:\n",
    "        break"
   ]
  },
  {
   "cell_type": "markdown",
   "metadata": {},
   "source": [
    "***\n",
    "<h1 align=\"center\">WELL DONE</h1>\n",
    " \n",
    "***"
   ]
  }
 ],
 "metadata": {
  "interpreter": {
   "hash": "cd08f94adcf3cbae37fe85286256f4c2a10455ca9094fd053e9f3d3f09647223"
  },
  "kernelspec": {
   "display_name": "Python 3.9.7 64-bit",
   "language": "python",
   "name": "python3"
  },
  "language_info": {
   "codemirror_mode": {
    "name": "ipython",
    "version": 3
   },
   "file_extension": ".py",
   "mimetype": "text/x-python",
   "name": "python",
   "nbconvert_exporter": "python",
   "pygments_lexer": "ipython3",
   "version": "3.10.4"
  },
  "orig_nbformat": 4
 },
 "nbformat": 4,
 "nbformat_minor": 2
}
