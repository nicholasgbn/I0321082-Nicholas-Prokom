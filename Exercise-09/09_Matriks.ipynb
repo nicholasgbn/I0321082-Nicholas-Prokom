{
 "cells": [
  {
   "cell_type": "markdown",
   "metadata": {},
   "source": [
    "# Exercise 09  \n",
    "### OPERASI MATRIKS  \n",
    "Silahkan lengkapi kode yang rumpang sesuai perintah yang diberikan.\n"
   ]
  },
  {
   "cell_type": "markdown",
   "metadata": {},
   "source": [
    "![](./image/1.png)"
   ]
  },
  {
   "cell_type": "code",
   "execution_count": 1,
   "metadata": {},
   "outputs": [],
   "source": [
    "A = [[86,86],\n",
    "     [86,86]]\n",
    "\n",
    "B = [[78, 78],\n",
    "     [78, 78]]\n"
   ]
  },
  {
   "cell_type": "markdown",
   "metadata": {},
   "source": [
    "Buatlah matriks menggunakan metode perulangan for dengan ketentuan sebagai berikut:\n",
    "* Matriks A berisi angka sebesar 4 setelah nim kalian. (ex: nim = 12, nilai matriks [16, 16],[16,16])\n",
    "* Matriks B berisi angka sebesar 4 sebelum nim kalian. (ex: nim = 12, nilai matriks [8, 8],[8,8])\n"
   ]
  },
  {
   "cell_type": "code",
   "execution_count": 5,
   "metadata": {},
   "outputs": [
    {
     "name": "stdout",
     "output_type": "stream",
     "text": [
      "[[86, 86], [86, 86]]\n",
      "[[78, 78], [78, 78]]\n"
     ]
    }
   ],
   "source": [
    "def create(matriks, nim):\n",
    "    for i in range (2):\n",
    "        for k in range (2):\n",
    "            matriks[i][k] = nim\n",
    "create(A, 86)\n",
    "create(B, 78)\n",
    "\n",
    "print(A)\n",
    "print(B)"
   ]
  },
  {
   "cell_type": "markdown",
   "metadata": {},
   "source": [
    "## KERJAKAN SOAL BERIKUT\n",
    "1. Buatlah program penjumlahan matriks A dan B.\n",
    "2. Buatlah program pengurangan matriks A dan B.\n",
    "3. Buatlah program perkalian matriks A dan B."
   ]
  },
  {
   "cell_type": "code",
   "execution_count": 6,
   "metadata": {},
   "outputs": [
    {
     "name": "stdout",
     "output_type": "stream",
     "text": [
      "[ 164 164 ]\n",
      "[ 164 164 ]\n"
     ]
    }
   ],
   "source": [
    "#SOAL-1\n",
    "#YOUR CODE HERE\n",
    "A = [[86,86],\n",
    "     [86,86]]\n",
    "\n",
    "B = [[78, 78],\n",
    "     [78, 78]]\n",
    "\n",
    "for x in range(len(A)):\n",
    "    print(\"[\", end =\" \")\n",
    "    for y in range(len(B)):\n",
    "        mat = A[x][y] + B[x][y]\n",
    "        print(mat, end=\" \")\n",
    "    print(\"]\")"
   ]
  },
  {
   "cell_type": "code",
   "execution_count": 7,
   "metadata": {},
   "outputs": [
    {
     "name": "stdout",
     "output_type": "stream",
     "text": [
      "[ 8 8 ]\n",
      "[ 8 8 ]\n"
     ]
    }
   ],
   "source": [
    "#SOAL-2\n",
    "#YOUR CODE HERE\n",
    "A = [[86,86],\n",
    "     [86,86]]\n",
    "\n",
    "B = [[78, 78],\n",
    "     [78, 78]]\n",
    "     \n",
    "for x in range(len(A)):\n",
    "    print(\"[\", end =\" \")\n",
    "    for y in range(len(B)):\n",
    "        mat = A[x][y] - B[x][y]\n",
    "        print(mat, end=\" \")\n",
    "    print(\"]\")"
   ]
  },
  {
   "cell_type": "code",
   "execution_count": 8,
   "metadata": {},
   "outputs": [
    {
     "name": "stdout",
     "output_type": "stream",
     "text": [
      "[ 13416 \t 13416 \t ]\n",
      "[ 13416 \t 13416 \t ]\n"
     ]
    }
   ],
   "source": [
    "#SOAL-3\n",
    "#YOUR CODE HERE\n",
    "A = [[86,86],\n",
    "     [86,86]]\n",
    "\n",
    "B = [[78, 78],\n",
    "     [78, 78]]\n",
    "\n",
    "C = []     \n",
    "\n",
    "for x in range(0, len(A)):\n",
    "    row = []\n",
    "    for y in range(0, len(A)):\n",
    "        total = 0\n",
    "        for z in range(0, len(B)):\n",
    "            total = total + (A[x][z] * B[z][y])\n",
    "        row.append(total)\n",
    "    C.append(row)\n",
    "    \n",
    "for x in range(0, len(C)):\n",
    "    print(\"[\", end =\" \")\n",
    "    for y in range(0, len(C[0])):\n",
    "        print (C[x][y] ,'\\t', end=' ')\n",
    "    print(\"]\")"
   ]
  },
  {
   "cell_type": "markdown",
   "metadata": {},
   "source": [
    "### Cara Pengumpulan\n",
    "\n",
    "1. Buka *New Terminal*\n",
    "2. Pastikan *path* Terminal adalah folder repositori kalian (NIM-Nama-Prokom).\n",
    "3. Tambahkan file yang akan ditrack dengan `git add <nama file>`. Nama file bisa diubah . (titik)  `git add .`yang artinya semua file dalam folder akan ditrack.\n",
    "4. Lakukan commit perubahan dengan `git commit -m <deskripsi>`.\n",
    "5. Lakukan push dengan `git push -u origin <nama branch>`. Nama branch dapat diketahui dengan `git branch`.\n",
    "6. Pastikan Exercise-02 telah terupload dan dapat diakses di repositori dengan mengaksesnya di browser."
   ]
  }
 ],
 "metadata": {
  "kernelspec": {
   "display_name": "Python 3.10.4 64-bit",
   "language": "python",
   "name": "python3"
  },
  "language_info": {
   "codemirror_mode": {
    "name": "ipython",
    "version": 3
   },
   "file_extension": ".py",
   "mimetype": "text/x-python",
   "name": "python",
   "nbconvert_exporter": "python",
   "pygments_lexer": "ipython3",
   "version": "3.10.4"
  },
  "orig_nbformat": 4,
  "vscode": {
   "interpreter": {
    "hash": "fb4569285eef3a3450cb62085a5b1e0da4bce0af555edc33dcf29baf3acc1368"
   }
  }
 },
 "nbformat": 4,
 "nbformat_minor": 2
}
